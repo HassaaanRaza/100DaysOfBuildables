{
 "cells": [
  {
   "cell_type": "markdown",
   "id": "7153b2ec",
   "metadata": {},
   "source": [
    "**VARIABLES AND DATA TYPES**"
   ]
  },
  {
   "cell_type": "code",
   "execution_count": null,
   "id": "0c63f351",
   "metadata": {},
   "outputs": [],
   "source": [
    "# integer\n",
    "a = 10\n",
    "# float\n",
    "b = 11.88\n",
    "# string\n",
    "text = \"Hello, Hassaan!\"\n",
    "# list\n",
    "numbers = [1, 2, 3, 4, 5]"
   ]
  },
  {
   "cell_type": "code",
   "execution_count": 3,
   "id": "667fc974",
   "metadata": {},
   "outputs": [
    {
     "name": "stdout",
     "output_type": "stream",
     "text": [
      "10 <class 'int'>\n",
      "3.14 <class 'float'>\n",
      "Hello, Python! <class 'str'>\n",
      "[1, 2, 3, 4, 5] <class 'list'>\n"
     ]
    }
   ],
   "source": [
    "print(a, type(a))\n",
    "print(b, type(b))\n",
    "print(text, type(text))\n",
    "print(numbers, type(numbers))"
   ]
  },
  {
   "cell_type": "markdown",
   "id": "74924995",
   "metadata": {},
   "source": [
    "**CONDITIONALS**"
   ]
  },
  {
   "cell_type": "code",
   "execution_count": null,
   "id": "3dc1b709",
   "metadata": {},
   "outputs": [
    {
     "name": "stdout",
     "output_type": "stream",
     "text": [
      "Zero\n"
     ]
    }
   ],
   "source": [
    "number = -5  # SUPPOSE A NUMBER -5\n",
    "\n",
    "if number > 0:\n",
    "    print(\"Positive\")\n",
    "elif number < 0:\n",
    "    print(\"Negative\")\n",
    "else:\n",
    "    print(\"Zero\")\n"
   ]
  },
  {
   "cell_type": "markdown",
   "id": "985b9ec7",
   "metadata": {},
   "source": [
    "**LOOPS**"
   ]
  },
  {
   "cell_type": "code",
   "execution_count": null,
   "id": "65e2a97c",
   "metadata": {},
   "outputs": [
    {
     "name": "stdout",
     "output_type": "stream",
     "text": [
      "First 10 natural numbers:\n",
      "1 2 3 4 5 6 7 8 9 10 "
     ]
    }
   ],
   "source": [
    "# print first 10 natural numbers\n",
    "\n",
    "print(\"First 10 natural numbers:\")\n",
    "for i in range(1, 11):\n",
    "    print(i, end=\" \")\n",
    "\n"
   ]
  },
  {
   "cell_type": "code",
   "execution_count": 14,
   "id": "59b8658b",
   "metadata": {},
   "outputs": [
    {
     "name": "stdout",
     "output_type": "stream",
     "text": [
      "Factorial of 5 is 120\n"
     ]
    }
   ],
   "source": [
    "# print factorial\n",
    "\n",
    "n = 5\n",
    "factorial = 1\n",
    "for i in range(1, n+1):\n",
    "    factorial = factorial * i\n",
    "print(f\"Factorial of {n} is {factorial}\")\n"
   ]
  },
  {
   "cell_type": "markdown",
   "id": "1813f605",
   "metadata": {},
   "source": [
    "**FUNCTIONS**"
   ]
  },
  {
   "cell_type": "code",
   "execution_count": 15,
   "id": "232ff426",
   "metadata": {},
   "outputs": [
    {
     "name": "stdout",
     "output_type": "stream",
     "text": [
      "Hello, Hassaan!\n"
     ]
    }
   ],
   "source": [
    "# greet function\n",
    "def greet(name):\n",
    "    print(f\"Hello, {name}!\")\n",
    "\n",
    "#calling function:\n",
    "greet(\"Hassaan\")"
   ]
  },
  {
   "cell_type": "code",
   "execution_count": 16,
   "id": "0fd427fe",
   "metadata": {},
   "outputs": [
    {
     "name": "stdout",
     "output_type": "stream",
     "text": [
      "True\n",
      "False\n"
     ]
    }
   ],
   "source": [
    "# is_even function \n",
    "def is_even(num):\n",
    "    return num % 2 == 0\n",
    "\n",
    "# calling function\n",
    "print(is_even(10))  # True\n",
    "print(is_even(7)) "
   ]
  },
  {
   "cell_type": "markdown",
   "id": "cc01eac7",
   "metadata": {},
   "source": [
    "**LIST OPERATIONS**"
   ]
  },
  {
   "cell_type": "code",
   "execution_count": 17,
   "id": "3c7c73a5",
   "metadata": {},
   "outputs": [
    {
     "name": "stdout",
     "output_type": "stream",
     "text": [
      "Max: 20\n",
      "Min: 3\n",
      "Sum: 48\n",
      "Average: 9.6\n"
     ]
    }
   ],
   "source": [
    "nums = [12, 5, 8, 20, 3]\n",
    "\n",
    "\n",
    "print(f\"Max: {max(nums)}\")\n",
    "print(f\"Min: {min(nums)}\")\n",
    "print(f\"Sum: {sum(nums)}\")\n",
    "print(f\"Average: {sum(nums)/len(nums)}\")"
   ]
  },
  {
   "cell_type": "code",
   "execution_count": null,
   "id": "43f651b8",
   "metadata": {},
   "outputs": [
    {
     "name": "stdout",
     "output_type": "stream",
     "text": [
      "Sorted: [3, 5, 8, 12, 20]\n"
     ]
    }
   ],
   "source": [
    "# sorting list using .sort\n",
    "nums.sort()\n",
    "print(\"Sorted:\", nums)"
   ]
  },
  {
   "cell_type": "code",
   "execution_count": 20,
   "id": "272789e5",
   "metadata": {},
   "outputs": [
    {
     "name": "stdout",
     "output_type": "stream",
     "text": [
      "Reversed: [3, 5, 8, 12, 20]\n"
     ]
    }
   ],
   "source": [
    "# reversing list useing .reverse\n",
    "nums.reverse()\n",
    "print(\"Reversed:\", nums)"
   ]
  },
  {
   "cell_type": "markdown",
   "id": "cfe1ce84",
   "metadata": {},
   "source": [
    "**INPUT/OUTPUT**"
   ]
  },
  {
   "cell_type": "code",
   "execution_count": 22,
   "id": "38ee3d5e",
   "metadata": {},
   "outputs": [
    {
     "name": "stdout",
     "output_type": "stream",
     "text": [
      "Hello 33, you are 3 yr old\n"
     ]
    }
   ],
   "source": [
    "name = input(\"Enter your name: \")\n",
    "age = int(input(\"Enter your age: \"))\n",
    "\n",
    "print(f\"Hello {name}, you are {age} yr old\")"
   ]
  },
  {
   "cell_type": "code",
   "execution_count": null,
   "id": "4994e555",
   "metadata": {},
   "outputs": [],
   "source": []
  }
 ],
 "metadata": {
  "kernelspec": {
   "display_name": "Python 3",
   "language": "python",
   "name": "python3"
  },
  "language_info": {
   "codemirror_mode": {
    "name": "ipython",
    "version": 3
   },
   "file_extension": ".py",
   "mimetype": "text/x-python",
   "name": "python",
   "nbconvert_exporter": "python",
   "pygments_lexer": "ipython3",
   "version": "3.13.2"
  }
 },
 "nbformat": 4,
 "nbformat_minor": 5
}
