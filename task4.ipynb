{
 "cells": [
  {
   "cell_type": "code",
   "execution_count": 1,
   "id": "7c0ed136",
   "metadata": {},
   "outputs": [],
   "source": [
    "import statistics as stat"
   ]
  },
  {
   "cell_type": "code",
   "execution_count": 2,
   "id": "c7173394",
   "metadata": {},
   "outputs": [],
   "source": [
    "data = [1,2,3,4,5,6,7,7,8,8,8,8,2,9,10,22,11,22,33,212,21,2344,34]\n"
   ]
  },
  {
   "cell_type": "markdown",
   "id": "629ba10b",
   "metadata": {},
   "source": [
    "Mean: average value of all the data points\n",
    "Median: the middle value in the sorted data set\n",
    "Mode: the most occuring value in the dataset\n",
    "Variance: how much each data point varies from the mean, higher variance means data point are more spread out, while low variance means data points are closer to mean.\n",
    "standard deviation: is the square root of variance."
   ]
  },
  {
   "cell_type": "code",
   "execution_count": null,
   "id": "511ebe61",
   "metadata": {},
   "outputs": [],
   "source": [
    "def euc_dis(x,y):\n",
    "    z = []\n",
    "    for i in range(len(x)):\n",
    "        z[i] = (y[i] - x[i])**2\n",
    "\n",
    "    z_sum = sum(z)\n",
    "\n",
    "    return z_sum**1/2\n"
   ]
  },
  {
   "cell_type": "code",
   "execution_count": 2,
   "id": "f85c0096",
   "metadata": {},
   "outputs": [
    {
     "ename": "TypeError",
     "evalue": "'list' object cannot be interpreted as an integer",
     "output_type": "error",
     "traceback": [
      "\u001b[1;31m---------------------------------------------------------------------------\u001b[0m",
      "\u001b[1;31mTypeError\u001b[0m                                 Traceback (most recent call last)",
      "Cell \u001b[1;32mIn[2], line 1\u001b[0m\n\u001b[1;32m----> 1\u001b[0m \u001b[38;5;28mprint\u001b[39m(\u001b[43meuc_dis\u001b[49m\u001b[43m(\u001b[49m\u001b[43m[\u001b[49m\u001b[38;5;241;43m6\u001b[39;49m\u001b[43m,\u001b[49m\u001b[43m \u001b[49m\u001b[38;5;241;43m7\u001b[39;49m\u001b[43m]\u001b[49m\u001b[43m,\u001b[49m\u001b[43m[\u001b[49m\u001b[38;5;241;43m8\u001b[39;49m\u001b[43m,\u001b[49m\u001b[43m \u001b[49m\u001b[38;5;241;43m9\u001b[39;49m\u001b[43m]\u001b[49m\u001b[43m)\u001b[49m)\n",
      "Cell \u001b[1;32mIn[1], line 3\u001b[0m, in \u001b[0;36meuc_dis\u001b[1;34m(x, y)\u001b[0m\n\u001b[0;32m      1\u001b[0m \u001b[38;5;28;01mdef\u001b[39;00m\u001b[38;5;250m \u001b[39m\u001b[38;5;21meuc_dis\u001b[39m(x,y):\n\u001b[0;32m      2\u001b[0m     z \u001b[38;5;241m=\u001b[39m []\n\u001b[1;32m----> 3\u001b[0m     \u001b[38;5;28;01mfor\u001b[39;00m i \u001b[38;5;129;01min\u001b[39;00m \u001b[38;5;28;43mrange\u001b[39;49m\u001b[43m(\u001b[49m\u001b[43mx\u001b[49m\u001b[43m)\u001b[49m:\n\u001b[0;32m      4\u001b[0m         z[i] \u001b[38;5;241m=\u001b[39m (y[i] \u001b[38;5;241m-\u001b[39m x[i])\u001b[38;5;241m*\u001b[39m\u001b[38;5;241m*\u001b[39m\u001b[38;5;241m2\u001b[39m\n\u001b[0;32m      6\u001b[0m     z_sum \u001b[38;5;241m=\u001b[39m \u001b[38;5;28msum\u001b[39m(z)\n",
      "\u001b[1;31mTypeError\u001b[0m: 'list' object cannot be interpreted as an integer"
     ]
    }
   ],
   "source": [
    "print(euc_dis([6, 7],[8, 9]))"
   ]
  },
  {
   "cell_type": "code",
   "execution_count": null,
   "id": "94a46fe9",
   "metadata": {},
   "outputs": [],
   "source": []
  }
 ],
 "metadata": {
  "kernelspec": {
   "display_name": "Python 3",
   "language": "python",
   "name": "python3"
  },
  "language_info": {
   "codemirror_mode": {
    "name": "ipython",
    "version": 3
   },
   "file_extension": ".py",
   "mimetype": "text/x-python",
   "name": "python",
   "nbconvert_exporter": "python",
   "pygments_lexer": "ipython3",
   "version": "3.13.2"
  }
 },
 "nbformat": 4,
 "nbformat_minor": 5
}
