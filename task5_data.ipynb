{
 "cells": [
  {
   "cell_type": "code",
   "execution_count": null,
   "id": "5aefffe8",
   "metadata": {},
   "outputs": [],
   "source": [
    "import numpy as np\n",
    "import pandas as pd\n",
    "import matplotlib.pyplot as plt\n",
    "import statistics as stats"
   ]
  },
  {
   "cell_type": "code",
   "execution_count": null,
   "id": "dcb43340",
   "metadata": {},
   "outputs": [],
   "source": [
    "df = pd.read_csv(\"Housing.csv\")"
   ]
  },
  {
   "cell_type": "code",
   "execution_count": null,
   "id": "2b8845c9",
   "metadata": {},
   "outputs": [],
   "source": [
    "df.head()"
   ]
  },
  {
   "cell_type": "code",
   "execution_count": null,
   "id": "4ac1124f",
   "metadata": {},
   "outputs": [],
   "source": [
    "print(df.columns)\n",
    "print(df[\"price\"].max())"
   ]
  },
  {
   "cell_type": "code",
   "execution_count": null,
   "id": "9d96bdfa",
   "metadata": {},
   "outputs": [],
   "source": [
    "df.dtypes"
   ]
  },
  {
   "cell_type": "code",
   "execution_count": null,
   "id": "317241c7",
   "metadata": {},
   "outputs": [],
   "source": [
    "pd.isnull(df).sum() # give the sum of null values in dataframe there is no null value"
   ]
  },
  {
   "cell_type": "code",
   "execution_count": null,
   "id": "ebcfc0fd",
   "metadata": {},
   "outputs": [],
   "source": [
    "df.info()"
   ]
  },
  {
   "cell_type": "markdown",
   "id": "10ba8037",
   "metadata": {},
   "source": [
    "*STATISTICAL PARAMETERS FOR NUMERIC COLUMNS*"
   ]
  },
  {
   "cell_type": "code",
   "execution_count": null,
   "id": "ca2ce7c0",
   "metadata": {},
   "outputs": [],
   "source": [
    "# THIS CONTAINS STATISTICS PARAMETERS FOR PRICE:\n",
    "print(\"=====STATS FOR COLUMN 'price'======\\n\")\n",
    "\n",
    "print(f\"MEAN of 'price': {stats.mean(df[\"price\"])}\")\n",
    "print(f\"MEDIAN of 'price': {stats.median(df[\"price\"])}\")\n",
    "print(f\"MODE of 'price': {stats.mode(df[\"price\"])}\")\n",
    "print(f\"STANDARD DEVIATION of 'price': {stats.stdev(df[\"price\"])}\")\n",
    "print(f\"VARIANCE of 'price': {stats.variance(df[\"price\"])}\")\n"
   ]
  },
  {
   "cell_type": "code",
   "execution_count": null,
   "id": "bc10394f",
   "metadata": {},
   "outputs": [],
   "source": [
    "# THIS CONTAINS STATISTICS PARAMETERS FOR area:\n",
    "print(\"=====STATS FOR COLUMN 'area'=====\\n\")\n",
    "\n",
    "print(f\"MEAN of 'area': {stats.mean(df[\"area\"])}\")\n",
    "print(f\"MEDIAN of 'area': {stats.median(df[\"area\"])}\")\n",
    "print(f\"MODE of 'area': {stats.mode(df[\"area\"])}\")\n",
    "print(f\"STANDARD DEVIATION of 'area': {stats.stdev(df[\"area\"])}\")\n",
    "print(f\"VARIANCE of 'area': {stats.variance(df[\"area\"])}\")\n"
   ]
  },
  {
   "cell_type": "code",
   "execution_count": null,
   "id": "5d6143ad",
   "metadata": {},
   "outputs": [],
   "source": [
    "# THIS CONTAINS STATISTICS PARAMETERS FOR no of bathrooms:\n",
    "print(\"=====STATS FOR COLUMN 'no of bathrooms'=====\\n\")\n",
    "\n",
    "print(f\"MEAN of 'bathrooms': {stats.mean(df[\"bathrooms\"])}\")\n",
    "print(f\"MEDIAN of 'bathrooms': {stats.median(df[\"bathrooms\"])}\")\n",
    "print(f\"MODE of 'bathrooms': {stats.mode(df[\"bathrooms\"])}\")\n",
    "print(f\"STANDARD DEVIATION of 'bathrooms': {stats.stdev(df[\"bathrooms\"])}\")\n",
    "print(f\"VARIANCE of 'bathrooms': {stats.variance(df[\"bathrooms\"])}\")\n"
   ]
  },
  {
   "cell_type": "code",
   "execution_count": null,
   "id": "de7130e6",
   "metadata": {},
   "outputs": [],
   "source": [
    "# THIS CONTAINS STATISTICS PARAMETERS FOR bedrooms:\n",
    "print(\"=====STATS FOR COLUMN 'bedrooms'=====\\n\")\n",
    "\n",
    "print(f\"MEAN of 'bedrooms': {stats.mean(df[\"bedrooms\"])}\")\n",
    "print(f\"MEDIAN of 'bedrooms': {stats.median(df[\"bedrooms\"])}\")\n",
    "print(f\"MODE of 'bedrooms': {stats.mode(df[\"bedrooms\"])}\")\n",
    "print(f\"STANDARD DEVIATION of 'bedrooms': {stats.stdev(df[\"bedrooms\"])}\")\n",
    "print(f\"VARIANCE of 'bedrooms': {stats.variance(df[\"bedrooms\"])}\")\n"
   ]
  },
  {
   "cell_type": "code",
   "execution_count": null,
   "id": "afeb8749",
   "metadata": {},
   "outputs": [],
   "source": [
    "# ===== STATS FOR COLUMN 'parking' =====\n",
    "print(\"===== STATS FOR COLUMN 'parking' =====\\n\")\n",
    "print(f\"MEAN of 'parking': {stats.mean(df['parking'])}\")\n",
    "print(f\"MEDIAN of 'parking': {stats.median(df['parking'])}\")\n",
    "print(f\"MODE of 'parking': {stats.mode(df['parking'])}\")\n",
    "print(f\"STANDARD DEVIATION of 'parking': {stats.stdev(df['parking'])}\")\n",
    "print(f\"VARIANCE of 'parking': {stats.variance(df['parking'])}\")\n"
   ]
  },
  {
   "cell_type": "code",
   "execution_count": null,
   "id": "7e152b86",
   "metadata": {},
   "outputs": [],
   "source": [
    "# ===== STATS FOR COLUMN 'stories' =====\n",
    "print(\"===== STATS FOR COLUMN 'stories' =====\\n\")\n",
    "print(f\"MEAN of 'stories': {stats.mean(df['stories'])}\")\n",
    "print(f\"MEDIAN of 'stories': {stats.median(df['stories'])}\")\n",
    "print(f\"MODE of 'stories': {stats.mode(df['stories'])}\")\n",
    "print(f\"STANDARD DEVIATION of 'stories': {stats.stdev(df['stories'])}\")\n",
    "print(f\"VARIANCE of 'stories': {stats.variance(df['stories'])}\\n\")\n"
   ]
  },
  {
   "cell_type": "markdown",
   "id": "c5161cca",
   "metadata": {},
   "source": [
    "*HISTOGRAMS FOR NUMERIC DATA*"
   ]
  },
  {
   "cell_type": "code",
   "execution_count": null,
   "id": "f4f0b3fd",
   "metadata": {},
   "outputs": [],
   "source": [
    "# HISTOGRAM FOR PRICE,\n",
    "plt.hist(df[\"price\"]/1000000,bins = 20, edgecolor = 'black')\n",
    "plt.title(\"price\")\n",
    "plt.xlabel(\"price in millions\")\n",
    "plt.ylabel(\"no of houses\")\n",
    "plt.show()\n",
    "\n"
   ]
  },
  {
   "cell_type": "markdown",
   "id": "3d36d0e5",
   "metadata": {},
   "source": [
    "THIS HISTOGRAM SHOWS TAT THERE ARE VERY FEW HOUSES UNDER 2 MILLION USD AND VERY FEW ABOVE 10 MIL USD"
   ]
  },
  {
   "cell_type": "code",
   "execution_count": null,
   "id": "8e2e32d6",
   "metadata": {},
   "outputs": [],
   "source": [
    "# HISTOGRAM FOR no of STORIES\n",
    "plt.hist(df[\"stories\"],bins = 6, edgecolor = 'black')\n",
    "plt.title(\"stories\")\n",
    "plt.xlabel(\"no of stories\")\n",
    "plt.ylabel(\"no of houses\")\n",
    "plt.show()"
   ]
  },
  {
   "cell_type": "code",
   "execution_count": null,
   "id": "34628d52",
   "metadata": {},
   "outputs": [],
   "source": [
    "# HISTOGRAM FOR AREA,\n",
    "plt.hist(df[\"area\"],bins = 10, edgecolor = 'black')\n",
    "plt.title(\"area\")\n",
    "plt.xlabel(\"area\")\n",
    "plt.ylabel(\"no of houses\")\n",
    "plt.show()"
   ]
  },
  {
   "cell_type": "code",
   "execution_count": null,
   "id": "16dad341",
   "metadata": {},
   "outputs": [],
   "source": [
    "# HISTOGRAM FOR no of Bathrooms,\n",
    "plt.hist(df[\"bathrooms\"],bins = 5, edgecolor = 'black')\n",
    "plt.title(\"no of Bathrooms\")\n",
    "plt.xlabel(\"bathrooms\")\n",
    "plt.ylabel(\"no of houses\")\n",
    "plt.show()"
   ]
  },
  {
   "cell_type": "code",
   "execution_count": null,
   "id": "3872a442",
   "metadata": {},
   "outputs": [],
   "source": [
    "# HISTOGRAM FOR no of BEDROOMS\n",
    "plt.hist(df[\"bedrooms\"],bins = 6, edgecolor = 'black')\n",
    "plt.title(\"NO.of bedrooms\")\n",
    "plt.xlabel(\"bedrooms\")\n",
    "plt.ylabel(\"no of houses\")\n",
    "plt.show()"
   ]
  },
  {
   "cell_type": "markdown",
   "id": "01d6aa7a",
   "metadata": {},
   "source": [
    "*BAR CHARTS FOR NON NUMERIC DATA*"
   ]
  },
  {
   "cell_type": "code",
   "execution_count": null,
   "id": "19c71912",
   "metadata": {},
   "outputs": [],
   "source": [
    "df.head()"
   ]
  },
  {
   "cell_type": "code",
   "execution_count": null,
   "id": "a08fe187",
   "metadata": {},
   "outputs": [],
   "source": [
    "# for furnished status\n",
    "counts = df[\"furnishingstatus\"].value_counts()\n",
    "plt.bar(counts.index, counts.values, color=\"skyblue\", edgecolor=\"black\")\n",
    "plt.title(\"Furnishing Status Distribution\")\n",
    "plt.xlabel(\"Furnishing Status\")\n",
    "plt.ylabel(\"Count\")\n",
    "plt.show()"
   ]
  },
  {
   "cell_type": "code",
   "execution_count": null,
   "id": "f676b946",
   "metadata": {},
   "outputs": [],
   "source": [
    "# for main road\n",
    "counts = df[\"mainroad\"].value_counts()\n",
    "plt.bar(counts.index, counts.values, color=\"skyblue\", edgecolor=\"black\")\n",
    "plt.title(\"Main Road Distribution\")\n",
    "plt.xlabel(\"Main Road\")\n",
    "plt.ylabel(\"Count\")\n",
    "plt.show()\n"
   ]
  },
  {
   "cell_type": "code",
   "execution_count": null,
   "id": "25df4b54",
   "metadata": {},
   "outputs": [],
   "source": [
    "# for guestroom\n",
    "counts = df[\"guestroom\"].value_counts()\n",
    "plt.bar(counts.index, counts.values, color=\"skyblue\", edgecolor=\"black\")\n",
    "plt.title(\"Guestroom Distribution\")\n",
    "plt.xlabel(\"Guestroom\")\n",
    "plt.ylabel(\"Count\")\n",
    "plt.show()\n"
   ]
  },
  {
   "cell_type": "code",
   "execution_count": null,
   "id": "a2cff1a5",
   "metadata": {},
   "outputs": [],
   "source": [
    "# for basement\n",
    "counts = df[\"basement\"].value_counts()\n",
    "plt.bar(counts.index, counts.values, color=\"skyblue\", edgecolor=\"black\")\n",
    "plt.title(\"Basement Distribution\")\n",
    "plt.xlabel(\"Basement\")\n",
    "plt.ylabel(\"Count\")\n",
    "plt.show()\n"
   ]
  },
  {
   "cell_type": "code",
   "execution_count": null,
   "id": "92a1c538",
   "metadata": {},
   "outputs": [],
   "source": [
    "# for hotwater heating\n",
    "counts = df[\"hotwaterheating\"].value_counts()\n",
    "plt.bar(counts.index, counts.values, color=\"skyblue\", edgecolor=\"black\")\n",
    "plt.title(\"Hot Water Heating Distribution\")\n",
    "plt.xlabel(\"Hot Water Heating\")\n",
    "plt.ylabel(\"Count\")\n",
    "plt.show()\n"
   ]
  },
  {
   "cell_type": "code",
   "execution_count": null,
   "id": "db16ff57",
   "metadata": {},
   "outputs": [],
   "source": [
    "# for air conditioning\n",
    "counts = df[\"airconditioning\"].value_counts()\n",
    "plt.bar(counts.index, counts.values, color=\"skyblue\", edgecolor=\"black\")\n",
    "plt.title(\"Air Conditioning Distribution\")\n",
    "plt.xlabel(\"Air Conditioning\")\n",
    "plt.ylabel(\"Count\")\n",
    "plt.show()\n"
   ]
  },
  {
   "cell_type": "code",
   "execution_count": null,
   "id": "771eb987",
   "metadata": {},
   "outputs": [],
   "source": [
    "# For PrefArea\n",
    "counts = df[\"prefarea\"].value_counts()\n",
    "plt.bar(counts.index, counts.values, color=\"skyblue\", edgecolor=\"black\")\n",
    "plt.title(\"Preferred Area Distribution\")\n",
    "plt.xlabel(\"PrefArea\")\n",
    "plt.ylabel(\"Count\")\n",
    "plt.show()\n"
   ]
  },
  {
   "cell_type": "markdown",
   "id": "33c43822",
   "metadata": {},
   "source": [
    "The dataset provides housing details, it mixes numerical features (price, area, bedrooms, bathrooms, stories, parking) with categorical features (mainroad, guestroom, basement, hotwaterheating, airconditioning, prefarea, furnishingstatus).\n",
    "\n",
    "Numerical analysis (mean, median, mode, variance, standard deviation) shows the central tendencies and spread — e.g., average price, typical number of bedrooms, common story levels.\n",
    "\n",
    "Categorical analysis (value counts, bar charts) shows patterns and preferences — e.g., most houses might be furnished, most have air conditioning, or many are not on the main road.\n",
    "\n",
    "*Histograms* for numeric data (price, area, bedrooms, bathrooms, stories) helped to see distributions (e.g., skewed vs normal).\n",
    "\n",
    "*Bar charts* for categorical features (furnishingstatus, mainroad, guestroom, basement, etc.) made it easy to compare counts of each category.\n",
    "\n",
    "Unfortunetely there were no missing values in this data set so i don't get to deal with them may be next time"
   ]
  }
 ],
 "metadata": {
  "kernelspec": {
   "display_name": "Python 3",
   "language": "python",
   "name": "python3"
  },
  "language_info": {
   "codemirror_mode": {
    "name": "ipython",
    "version": 3
   },
   "file_extension": ".py",
   "mimetype": "text/x-python",
   "name": "python",
   "nbconvert_exporter": "python",
   "pygments_lexer": "ipython3",
   "version": "3.13.2"
  }
 },
 "nbformat": 4,
 "nbformat_minor": 5
}
